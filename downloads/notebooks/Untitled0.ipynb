{
 "metadata": {
  "name": "",
  "signature": "sha256:449df11bec9f34c15e0a2d5c1f613ccbf813a425c6c7738b2dfc18df195f1988"
 },
 "nbformat": 3,
 "nbformat_minor": 0,
 "worksheets": [
  {
   "cells": [
    {
     "cell_type": "code",
     "collapsed": false,
     "input": [
      "import ctypes\n",
      "\n",
      "class IntStruct(ctypes.Structure):\n",
      "    _fields_ = [(\"ob_refcnt\", ctypes.c_long),\n",
      "                (\"ob_type\", ctypes.c_void_p),\n",
      "                (\"ob_size\", ctypes.c_ulong),\n",
      "                (\"ob_digit\", ctypes.c_long)]\n",
      "    \n",
      "    def __repr__(self):\n",
      "        return (\"IntStruct(ob_digit={self.ob_digit}, \"\n",
      "                \"refcount={self.ob_refcnt})\").format(self=self)"
     ],
     "language": "python",
     "metadata": {},
     "outputs": [],
     "prompt_number": 1
    },
    {
     "cell_type": "code",
     "collapsed": false,
     "input": [
      "x = 42\n",
      "xs = IntStruct.from_address(id(x))"
     ],
     "language": "python",
     "metadata": {},
     "outputs": [],
     "prompt_number": 8
    },
    {
     "cell_type": "code",
     "collapsed": false,
     "input": [],
     "language": "python",
     "metadata": {},
     "outputs": [],
     "prompt_number": 7
    },
    {
     "cell_type": "code",
     "collapsed": false,
     "input": [],
     "language": "python",
     "metadata": {},
     "outputs": []
    }
   ],
   "metadata": {}
  }
 ]
}