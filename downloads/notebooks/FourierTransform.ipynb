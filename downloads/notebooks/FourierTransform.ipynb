{
 "metadata": {
  "name": "",
  "signature": "sha256:fc6d5d88181f18c727471e89bb1732f5f597c195125af7db92691e83cef1016c"
 },
 "nbformat": 3,
 "nbformat_minor": 0,
 "worksheets": [
  {
   "cells": [
    {
     "cell_type": "markdown",
     "metadata": {},
     "source": [
      "# Computing a Continuous Fourier Transform via the FFT"
     ]
    },
    {
     "cell_type": "markdown",
     "metadata": {},
     "source": [
      "Continuous Fourier transform:\n",
      "\n",
      "$$\n",
      "H(f) = \\int_{-\\infty}^{\\infty} h(t) \\exp(-i\\ 2\\pi f t) dt\n",
      "$$"
     ]
    },
    {
     "cell_type": "markdown",
     "metadata": {},
     "source": [
      "Discrete Fourier transform\n",
      "\n",
      "$$\n",
      "H_k = \\sum_{j=1}^{N-1} h_j \\exp(-i\\ 2\\pi jk/N)\n",
      "$$"
     ]
    },
    {
     "cell_type": "markdown",
     "metadata": {},
     "source": [
      "If the function $h(t)$ is zero outside some range of size $T$ centered on $t_0$, then we can write\n",
      "\n",
      "$$\n",
      "H(f) = \\int_{t_0-T/2}^{t_0+T/2} h(t) \\exp(-i\\ 2\\pi f t) dt\n",
      "$$\n",
      "\n",
      "This integral can be approximated by a [Riemann Sum](https://en.wikipedia.org/wiki/Riemann_sum) by dividing $T$ into $N$ equal intervals, of size $\\Delta t = T/N$.\n",
      "With this setup, we can write\n",
      "\n",
      "$$\n",
      "H(f) \\approx \\Delta t \\sum_{j=0}^{N-1} h(t_j)\\exp(-i\\ 2\\pi f t_j)\n",
      "$$\n",
      "\n",
      "where we have defined $t_j = t_0 + j\\Delta t$."
     ]
    },
    {
     "cell_type": "markdown",
     "metadata": {},
     "source": [
      "Let's also assume that we'll measure the result at discrete frequencies $f_k = f_0 + k\\Delta f$, then we have:\n",
      "\n",
      "$$\n",
      "H(f_k) \\approx \\Delta t \\sum_{j=0}^{N-1} h(t_j)\\exp(-i\\ 2\\pi f_k t_j)\n",
      "$$"
     ]
    },
    {
     "cell_type": "markdown",
     "metadata": {},
     "source": [
      "If we plug-in the expressions for $f_k$ and $t_j$ and rearrange, we get the following:\n",
      "\n",
      "$$\n",
      "\\bigg[H(f_k)\\exp(i\\ 2\\pi f_k t_0)\\bigg] \\approx \\Delta t \\sum_{j=0}^{N-1} \\bigg[h(t_j)\\exp(-i\\ 2\\pi f_0 t_j)\\bigg] \\exp(-i\\ 2\\pi j k \\Delta f \\Delta t)\n",
      "$$"
     ]
    },
    {
     "cell_type": "markdown",
     "metadata": {},
     "source": [
      "Now we see that the right-most exponent will match the discrete transform if $\\Delta f\\Delta t = 1/N$, meaning that $\\Delta f = 1/T$. With this substitution, we find that the *continuous* Fourier pair $\\{h(t), H(f)\\}$ maps to the *discrete* Fourier pair $\\{h_j, H_k\\}$ where"
     ]
    },
    {
     "cell_type": "markdown",
     "metadata": {},
     "source": [
      "$$\n",
      "h_j = h(t_j) \\Delta t \\exp(-i\\ 2\\pi j\\ f_0 T/N)\n",
      "$$\n",
      "and\n",
      "$$\n",
      "H_k = H(f_k) \\exp(i\\ 2\\pi k\\ t_0 / T)\n",
      "$$"
     ]
    },
    {
     "cell_type": "markdown",
     "metadata": {},
     "source": [
      "Depending on the values of $t_0$ and $f_0$, this expression becomes simplified.\n",
      "For example, if we assume (as is commonly the case) that both the frequency and time range are centered about zero such that $-T/2 \\le t < T/2$ and $ -N/(2T) \\le f < N/(2T)$, we find\n",
      "\n",
      "$$\n",
      "h_j = h(t_j) (-1)^j \\Delta t\n",
      "$$\n",
      "and\n",
      "$$\n",
      "H_k = H(f_k) (-1)^k\n",
      "$$"
     ]
    },
    {
     "cell_type": "markdown",
     "metadata": {},
     "source": [
      "On the other hand, if we start the time and frequency grids at zero such that $t_0 = f_0 = 0$, this simplifies to\n",
      "\n",
      "$$\n",
      "h_j = h(t_j)\\Delta t\n",
      "$$\n",
      "and\n",
      "$$\n",
      "H_k = H(f_k)\n",
      "$$"
     ]
    },
    {
     "cell_type": "markdown",
     "metadata": {},
     "source": [
      "## The Sampling Theorem\n",
      "\n",
      "When considering discretization of a continuous function, a fundamental result to keep in mind is the *Nyquist-Shannon Sampling Theorem*. In Shannon's words, it is as follows:\n",
      "\n",
      "*If a function x(t) contains no frequencies higher than B hertz, it is completely determined by giving its ordinates at a series of points spaced 1/(2B) seconds apart.*\n"
     ]
    }
   ],
   "metadata": {}
  }
 ]
}